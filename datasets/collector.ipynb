{
 "cells": [
  {
   "cell_type": "code",
   "execution_count": 2,
   "id": "9b8e6acd-ce77-4802-863b-57d4b55c9cbd",
   "metadata": {},
   "outputs": [
    {
     "name": "stdout",
     "output_type": "stream",
     "text": [
      "CSV file 'tempCollected.csv' has been created successfully.\n"
     ]
    }
   ],
   "source": [
    "import csv\n",
    "import cv2 as cv\n",
    "import mediapipe as mp\n",
    "\n",
    "mp_hands = mp.solutions.hands\n",
    "mp_drawing = mp.solutions.drawing_utils\n",
    "\n",
    "hands = mp_hands.Hands(\n",
    "    static_image_mode=False,\n",
    "    max_num_hands=2,\n",
    "    min_detection_confidence=0.5\n",
    ")\n",
    "\n",
    "cam = cv.VideoCapture(0)\n",
    "\n",
    "# Open CSV file in write mode\n",
    "with open('tempCollected.csv', mode='w', newline='') as file:\n",
    "    writer = csv.writer(file)\n",
    "    \n",
    "    # Write header row\n",
    "    header_row = ['Landmark' + str(i+1) + axis for i in range(21) for axis in ['X', 'Y', 'Z']]\n",
    "    header_row.append('class')\n",
    "    writer.writerow(header_row)\n",
    "\n",
    "    while cam.isOpened():\n",
    "        success, frame = cam.read()\n",
    "        if not success:\n",
    "            print(\"No frame to show\")\n",
    "            continue\n",
    "        \n",
    "        frame = cv.cvtColor(cv.flip(frame,1), cv.COLOR_BGR2RGB)\n",
    "        hands_detected = hands.process(frame)\n",
    "        frame=cv.cvtColor(frame, cv.COLOR_RGB2BGR)\n",
    "        \n",
    "        if hands_detected.multi_hand_landmarks:\n",
    "            for hand_landmarks in hands_detected.multi_hand_landmarks:\n",
    "                # Write landmarks to CSV\n",
    "                landmark_row = []\n",
    "                for landmark in hand_landmarks.landmark:\n",
    "                    landmark_row.extend([landmark.x, landmark.y, landmark.z])\n",
    "                \n",
    "                # Fill empty cells if less than 21 landmarks detected\n",
    "                while len(landmark_row) < 63:\n",
    "                    landmark_row.extend([None, None, None])\n",
    "                \n",
    "                # Write 'class' value\n",
    "                landmark_row.append('class')\n",
    "                \n",
    "                writer.writerow(landmark_row)\n",
    "\n",
    "                # Draw landmarks on the frame\n",
    "                mp_drawing.draw_landmarks(\n",
    "                    frame,\n",
    "                    hand_landmarks,\n",
    "                    mp_hands.HAND_CONNECTIONS\n",
    "                )\n",
    "        \n",
    "        cv.imshow(\"Captures\", frame)\n",
    "        if cv.waitKey(1) & 0xFF == ord('q'):\n",
    "            break\n",
    "\n",
    "    # Release resources\n",
    "    cam.release()\n",
    "    cv.destroyAllWindows()\n",
    "\n",
    "print(\"CSV file 'tempCollected.csv' has been created successfully.\")\n"
   ]
  },
  {
   "cell_type": "code",
   "execution_count": null,
   "id": "9352b25d-81a1-474c-a6ed-3966f0672109",
   "metadata": {},
   "outputs": [],
   "source": []
  }
 ],
 "metadata": {
  "kernelspec": {
   "display_name": "Python 3 (ipykernel)",
   "language": "python",
   "name": "python3"
  },
  "language_info": {
   "codemirror_mode": {
    "name": "ipython",
    "version": 3
   },
   "file_extension": ".py",
   "mimetype": "text/x-python",
   "name": "python",
   "nbconvert_exporter": "python",
   "pygments_lexer": "ipython3",
   "version": "3.8.10"
  }
 },
 "nbformat": 4,
 "nbformat_minor": 5
}
